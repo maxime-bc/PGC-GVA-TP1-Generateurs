{
 "cells": [
  {
   "cell_type": "markdown",
   "metadata": {},
   "source": [
    "Maxime BLANCHON\n",
    "\n",
    "#### *Programmation sur Grille de Calcul - Générateurs de Variables Aléatoires*\n",
    "\n",
    "# TP3 - Méthodes de Monte-Carlo\n",
    "\n",
    "## Exercice 1"
   ]
  },
  {
   "cell_type": "code",
   "execution_count": 24,
   "metadata": {},
   "outputs": [
    {
     "name": "stdout",
     "output_type": "stream",
     "text": [
      "Pi : 3.141592653589793, approximation : 3.146244\n"
     ]
    },
    {
     "data": {
      "image/png": "[encoded data removed]",
      "text/plain": [
       "<Figure size 360x360 with 1 Axes>"
      ]
     },
     "metadata": {
      "needs_background": "light"
     },
     "output_type": "display_data"
    },
    {
     "data": {
      "text/plain": [
       "3.146244"
      ]
     },
     "execution_count": 24,
     "metadata": {},
     "output_type": "execute_result"
    }
   ],
   "source": [
    "import numpy as np\n",
    "import matplotlib.pyplot as plt\n",
    "from math import sqrt\n",
    "from typing import Callable, List\n",
    "from itertools import repeat\n",
    "import seaborn as sns\n",
    "\n",
    "SIZES = [100, 1000, 10_000, 50_000, 100_000, 500_000, 1_000_000]\n",
    "\n",
    "def hit_or_miss_plot(N=1000):\n",
    "    x = np.random.uniform(size=N)\n",
    "    y = np.random.uniform(size=N)\n",
    "    \n",
    "    inside_bool = (x*x)+(y*y)<1\n",
    "    \n",
    "    approx_pi = 4*np.sum(inside_bool)/N\n",
    "    print(\"Pi : {}, approximation : {}\".format(np.pi, approx_pi))\n",
    "    \n",
    "    x_in = x[inside_bool]\n",
    "    y_in = y[inside_bool]\n",
    "    \n",
    "    plt.figure(figsize=[5,5])\n",
    "    plt.scatter(x, y, s=1)\n",
    "    plt.scatter(x_in, y_in, color=\"r\", s=1)\n",
    "    plt.show()\n",
    "    \n",
    "    return approx_pi\n",
    "\n",
    "\n",
    "def hit_or_miss(N=1000):\n",
    "    x = np.random.uniform(size=N)\n",
    "    y = np.random.uniform(size=N)\n",
    "    \n",
    "    inside_bool = (x*x)+(y*y)<1\n",
    "    \n",
    "    approx_pi = 4*np.sum(inside_bool)/N\n",
    "    return approx_pi\n",
    "    \n",
    "hit_or_miss_plot(1_000_000)"
   ]
  },
  {
   "cell_type": "code",
   "execution_count": 2,
   "metadata": {},
   "outputs": [],
   "source": [
    "def plot_error_function(sizes: List[int], approximations: List[float], errors: List[float]):\n",
    "    sizes_log = np.log(SIZES)\n",
    "    plt.scatter(sizes_log, errors, facecolors='none', edgecolors='b', linewidths=2)\n",
    "    plt.plot(sizes_log, approximations, color='r')\n",
    "    plt.scatter(sizes_log, approximations, facecolors='none', edgecolors='r', linewidths=2)"
   ]
  },
  {
   "cell_type": "code",
   "execution_count": 3,
   "metadata": {},
   "outputs": [
    {
     "data": {
      "image/png": "[encoded data removed]",
      "text/plain": [
       "<Figure size 432x288 with 1 Axes>"
      ]
     },
     "metadata": {
      "needs_background": "light"
     },
     "output_type": "display_data"
    }
   ],
   "source": [
    "approximations = []\n",
    "errors = []\n",
    "\n",
    "for size in SIZES:\n",
    "    approx = hit_or_miss(size)\n",
    "    errors.append(abs(approx - np.pi))\n",
    "    approximations.append(1/sqrt(size))\n",
    "\n",
    "plot_error_function(SIZES, approximations, errors)"
   ]
  },
  {
   "cell_type": "markdown",
   "metadata": {},
   "source": [
    "## Exercice 2\n",
    "\n"
   ]
  },
  {
   "cell_type": "markdown",
   "metadata": {},
   "source": [
    "1 - La valeur de l'intégrale trouvée par un changement de variable $u=arcsin(x)$ et $du = \\frac {1} {\\sqrt {1 - x^2}}$, nous trouvons $J = 0.602845$."
   ]
  },
  {
   "cell_type": "code",
   "execution_count": 4,
   "metadata": {},
   "outputs": [
    {
     "name": "stdout",
     "output_type": "stream",
     "text": [
      "Nombre de valeurs simulées n = 100, estimation de J = 0.6163658679878288\n",
      "Nombre de valeurs simulées n = 1000, estimation de J = 0.5935121920239496\n",
      "Nombre de valeurs simulées n = 10000, estimation de J = 0.5947633598877416\n",
      "Nombre de valeurs simulées n = 50000, estimation de J = 0.6013085098019909\n",
      "Nombre de valeurs simulées n = 100000, estimation de J = 0.6019315949905215\n",
      "Nombre de valeurs simulées n = 500000, estimation de J = 0.6028335841145778\n",
      "Nombre de valeurs simulées n = 1000000, estimation de J = 0.6026407419586335\n"
     ]
    }
   ],
   "source": [
    "# 2)\n",
    "def f(x) -> float:\n",
    "    return (1 / 2) * (np.exp(np.arcsin(x))) * (x / np.sqrt(1 - (x * x)))\n",
    "\n",
    "def monte_carlo(a: float, b: float, n: int, f: Callable) -> float:\n",
    "    mc_sum = 0\n",
    "    for i in range(n):\n",
    "        mc_sum += f(np.random.uniform(a, b))\n",
    "    return (b - a) * mc_sum / n\n",
    "\n",
    "# 3)\n",
    "f_monte_carlo = []\n",
    "for n in SIZES:\n",
    "    res = monte_carlo(0.1, 0.9, n, f)\n",
    "    f_monte_carlo.append(res)\n",
    "    print(f'Nombre de valeurs simulées n = {n}, estimation de J = {res}')"
   ]
  },
  {
   "cell_type": "code",
   "execution_count": 5,
   "metadata": {},
   "outputs": [
    {
     "name": "stdout",
     "output_type": "stream",
     "text": [
      "Nombre de valeurs simulées n = 100, estimation de J = 0.5667942925845\n",
      "Nombre de valeurs simulées n = 1000, estimation de J = 0.5990893619507717\n",
      "Nombre de valeurs simulées n = 10000, estimation de J = 0.6024682238648716\n",
      "Nombre de valeurs simulées n = 50000, estimation de J = 0.6027699557026537\n",
      "Nombre de valeurs simulées n = 100000, estimation de J = 0.6028076882127177\n",
      "Nombre de valeurs simulées n = 500000, estimation de J = 0.6028378767870706\n",
      "Nombre de valeurs simulées n = 1000000, estimation de J = 0.6028416505193059\n"
     ]
    }
   ],
   "source": [
    "# 4\n",
    "def formule_des_rectangles(a: float, b: float, n: int, f: Callable):\n",
    "    rec_sum = 0\n",
    "    h = (b - a) / n\n",
    "    \n",
    "    for k in range(n-1):\n",
    "        rec_sum += f(a + k * h)\n",
    "        \n",
    "    return h * rec_sum\n",
    "\n",
    "f_rectangle = []\n",
    "for n in SIZES:\n",
    "    res = formule_des_rectangles(0.1, 0.9, n, f)\n",
    "    f_rectangle.append(res)\n",
    "    print(f'Nombre de valeurs simulées n = {n}, estimation de J = {res}')"
   ]
  },
  {
   "cell_type": "code",
   "execution_count": 22,
   "metadata": {},
   "outputs": [
    {
     "data": {
      "image/png": "[encoded data removed]",
      "text/plain": [
       "<Figure size 432x288 with 1 Axes>"
      ]
     },
     "metadata": {
      "needs_background": "light"
     },
     "output_type": "display_data"
    }
   ],
   "source": [
    "J_VALUE = 0.602845\n",
    "\n",
    "def plot_values(sizes: List[int], f1: List[float], f2: List[float]) -> None:\n",
    "    sizes_log = np.log(SIZES)\n",
    "    plt.plot(sizes_log, f1, color='blue')\n",
    "    plt.scatter(sizes_log, f1, facecolors='none', edgecolors='b', linewidths=2)\n",
    "    plt.plot(sizes_log, f2, color='red')\n",
    "    plt.scatter(sizes_log, f2, facecolors='none', edgecolors='r', linewidths=2)\n",
    "    droite = list(repeat(J_VALUE, len(SIZES)))\n",
    "    plt.plot(sizes_log, droite, linestyle='dashed', color='green')\n",
    "    \n",
    "plot_values(SIZES, f_rectangle, f_monte_carlo)"
   ]
  },
  {
   "cell_type": "markdown",
   "metadata": {},
   "source": [
    "La méthode de quadrature converge plus rapidement."
   ]
  },
  {
   "cell_type": "code",
   "execution_count": null,
   "metadata": {},
   "outputs": [],
   "source": [
    "# 5\n",
    "approximations = []\n",
    "errors = []\n",
    "\n",
    "for size in SIZES:\n",
    "    approx =  monte_carlo(0.1, 0.9, size, f)\n",
    "    error = abs(approx - J_VALUE)\n",
    "    errors.append(error)\n",
    "    approximations.append(1/sqrt(size))\n",
    "    print(f'Nombre de tirages n = {size}, erreur numérique = {error}')\n",
    "\n",
    "plot_error_function(SIZES, approximations, errors)"
   ]
  },
  {
   "cell_type": "code",
   "execution_count": 25,
   "metadata": {},
   "outputs": [
    {
     "name": "stdout",
     "output_type": "stream",
     "text": [
      "moyenne =  0.6031920726809946\n"
     ]
    }
   ],
   "source": [
    "# 6\n",
    "def batch(m, n):\n",
    "    batch_len = int(n / m)\n",
    "    batches = []\n",
    "    \n",
    "    for i in range(m):\n",
    "        batches.append(monte_carlo(0.1, 0.9, batch_len, f))\n",
    "        \n",
    "    return batches, sum(batches) / m\n",
    "\n",
    "batches, avg = batch(5000, 1_000_000)\n",
    "print('moyenne = ', avg)"
   ]
  },
  {
   "cell_type": "code",
   "execution_count": 26,
   "metadata": {},
   "outputs": [
    {
     "name": "stderr",
     "output_type": "stream",
     "text": [
      "/home/maxime/anaconda3/lib/python3.8/site-packages/seaborn/distributions.py:2619: FutureWarning: `distplot` is a deprecated function and will be removed in a future version. Please adapt your code to use either `displot` (a figure-level function with similar flexibility) or `histplot` (an axes-level function for histograms).\n",
      "  warnings.warn(msg, FutureWarning)\n"
     ]
    },
    {
     "data": {
      "text/plain": [
       "<matplotlib.axes._subplots.AxesSubplot at 0x7f92ee85cb20>"
      ]
     },
     "execution_count": 26,
     "metadata": {},
     "output_type": "execute_result"
    },
    {
     "data": {
      "image/png": "[encoded data removed]",
      "text/plain": [
       "<Figure size 432x288 with 1 Axes>"
      ]
     },
     "metadata": {
      "needs_background": "light"
     },
     "output_type": "display_data"
    }
   ],
   "source": [
    "sns.distplot(batches)"
   ]
  },
  {
   "cell_type": "markdown",
   "metadata": {},
   "source": [
    "## Exercice 3\n",
    "\n",
    "1 - La valeur de l'intégrale I est 0.159491."
   ]
  },
  {
   "cell_type": "code",
   "execution_count": 28,
   "metadata": {},
   "outputs": [
    {
     "name": "stdout",
     "output_type": "stream",
     "text": [
      "Nombre de valeurs simulées n = 100, estimation de J = 0.1536376553853271\n",
      "Nombre de valeurs simulées n = 1000, estimation de J = 0.1670295398760983\n",
      "Nombre de valeurs simulées n = 10000, estimation de J = 0.15985804408626866\n",
      "Nombre de valeurs simulées n = 50000, estimation de J = 0.15930329443622004\n",
      "Nombre de valeurs simulées n = 100000, estimation de J = 0.15993246121683874\n",
      "Nombre de valeurs simulées n = 500000, estimation de J = 0.15893839147684066\n",
      "Nombre de valeurs simulées n = 1000000, estimation de J = 0.15949823691626805\n"
     ]
    }
   ],
   "source": [
    "# 2\n",
    "def y_func(x: int, y: int) -> float:\n",
    "    return x * y * np.sin(1 / (x * y))**2\n",
    "\n",
    "def monte_carlo_v2(a: float, b: float, n: int, f: Callable) -> float:\n",
    "    mc_sum = 0\n",
    "    for i in range(n):\n",
    "        mc_sum += f(np.random.uniform(a, b), np.random.uniform(a, b))\n",
    "    return (b - a) * mc_sum / n\n",
    "\n",
    "# 3\n",
    "f_monte_carlo = []\n",
    "for n in SIZES:\n",
    "    res = monte_carlo_v2(0, 1, n, y_func)\n",
    "    f_monte_carlo.append(res)\n",
    "    print(f'Nombre de valeurs simulées n = {n}, estimation de J = {res}')"
   ]
  },
  {
   "cell_type": "code",
   "execution_count": null,
   "metadata": {},
   "outputs": [],
   "source": [
    "# 4"
   ]
  },
  {
   "cell_type": "code",
   "execution_count": 31,
   "metadata": {},
   "outputs": [
    {
     "name": "stdout",
     "output_type": "stream",
     "text": [
      "Nombre de tirages n = 100, erreur numérique = 0.027891862696391073\n",
      "Nombre de tirages n = 1000, erreur numérique = 0.016080052812699863\n",
      "Nombre de tirages n = 10000, erreur numérique = 0.0001870816493400318\n",
      "Nombre de tirages n = 50000, erreur numérique = 0.0008455511009892447\n",
      "Nombre de tirages n = 100000, erreur numérique = 8.666736368234673e-06\n",
      "Nombre de tirages n = 500000, erreur numérique = 0.0005372631106185244\n",
      "Nombre de tirages n = 1000000, erreur numérique = 6.422059495206356e-05\n"
     ]
    },
    {
     "data": {
      "image/png": "[encoded data removed]",
      "text/plain": [
       "<Figure size 432x288 with 1 Axes>"
      ]
     },
     "metadata": {
      "needs_background": "light"
     },
     "output_type": "display_data"
    }
   ],
   "source": [
    "# 5\n",
    "I_VALUE = 0.159491\n",
    "approximations = []\n",
    "errors = []\n",
    "\n",
    "for size in SIZES:\n",
    "    approx =  monte_carlo_v2(0, 1, size, y_func)\n",
    "    error = abs(approx - I_VALUE)\n",
    "    errors.append(error)\n",
    "    approximations.append(1/sqrt(size))\n",
    "    print(f'Nombre de tirages n = {size}, erreur numérique = {error}')\n",
    "\n",
    "plot_error_function(SIZES, approximations, errors)"
   ]
  },
  {
   "cell_type": "code",
   "execution_count": 33,
   "metadata": {},
   "outputs": [
    {
     "name": "stdout",
     "output_type": "stream",
     "text": [
      "moyenne =  0.15931299965299262\n"
     ]
    }
   ],
   "source": [
    "#6 \n",
    "def batch(m, n):\n",
    "    batch_len = int(n / m)\n",
    "    batches = []\n",
    "    \n",
    "    for i in range(m):\n",
    "        batches.append(monte_carlo_v2(0, 1, batch_len, y_func))\n",
    "        \n",
    "    return batches, sum(batches) / m\n",
    "\n",
    "batches, avg = batch(5000, 1_000_000)\n",
    "print('moyenne = ', avg)"
   ]
  },
  {
   "cell_type": "code",
   "execution_count": 34,
   "metadata": {},
   "outputs": [
    {
     "name": "stderr",
     "output_type": "stream",
     "text": [
      "/home/maxime/anaconda3/lib/python3.8/site-packages/seaborn/distributions.py:2619: FutureWarning: `distplot` is a deprecated function and will be removed in a future version. Please adapt your code to use either `displot` (a figure-level function with similar flexibility) or `histplot` (an axes-level function for histograms).\n",
      "  warnings.warn(msg, FutureWarning)\n"
     ]
    },
    {
     "data": {
      "text/plain": [
       "<matplotlib.axes._subplots.AxesSubplot at 0x7f92d65e9730>"
      ]
     },
     "execution_count": 34,
     "metadata": {},
     "output_type": "execute_result"
    },
    {
     "data": {
      "image/png": "[encoded data removed]",
      "text/plain": [
       "<Figure size 432x288 with 1 Axes>"
      ]
     },
     "metadata": {
      "needs_background": "light"
     },
     "output_type": "display_data"
    }
   ],
   "source": [
    "sns.distplot(batches)"
   ]
  }
 ],
 "metadata": {
  "kernelspec": {
   "display_name": "Python 3",
   "language": "python",
   "name": "python3"
  },
  "language_info": {
   "codemirror_mode": {
    "name": "ipython",
    "version": 3
   },
   "file_extension": ".py",
   "mimetype": "text/x-python",
   "name": "python",
   "nbconvert_exporter": "python",
   "pygments_lexer": "ipython3",
   "version": "3.8.3"
  }
 },
 "nbformat": 4,
 "nbformat_minor": 4
}
