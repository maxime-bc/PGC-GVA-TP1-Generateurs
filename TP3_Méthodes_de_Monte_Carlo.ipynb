{
 "cells": [
  {
   "cell_type": "markdown",
   "metadata": {},
   "source": [
    "Maxime BLANCHON\n",
    "\n",
    "#### *Programmation sur Grille de Calcul - Générateurs de Variables Aléatoires*\n",
    "\n",
    "# TP3 - Méthodes de Monte-Carlo\n",
    "\n",
    "## Exercice 1"
   ]
  },
  {
   "cell_type": "code",
   "execution_count": 1,
   "metadata": {},
   "outputs": [
    {
     "name": "stdout",
     "output_type": "stream",
     "text": [
      "Pi : 3.141592653589793, approximation : 3.1439\n"
     ]
    },
    {
     "data": {
      "image/png": "[encoded data removed]",
      "text/plain": [
       "<Figure size 360x360 with 1 Axes>"
      ]
     },
     "metadata": {
      "needs_background": "light"
     },
     "output_type": "display_data"
    },
    {
     "data": {
      "text/plain": [
       "3.1439"
      ]
     },
     "execution_count": 1,
     "metadata": {},
     "output_type": "execute_result"
    }
   ],
   "source": [
    "import numpy as np\n",
    "import matplotlib.pyplot as plt\n",
    "from math import sqrt\n",
    "from typing import Callable, List\n",
    "from itertools import repeat\n",
    "import seaborn as sns\n",
    "from scipy.integrate import dblquad\n",
    "\n",
    "SIZES = [100, 1000, 10_000, 50_000, 100_000, 500_000, 1_000_000]\n",
    "\n",
    "def hit_or_miss_plot(N=1000):\n",
    "    x = np.random.uniform(size=N)\n",
    "    y = np.random.uniform(size=N)\n",
    "    \n",
    "    inside_bool = (x*x)+(y*y)<1\n",
    "    \n",
    "    approx_pi = 4*np.sum(inside_bool)/N\n",
    "    print(\"Pi : {}, approximation : {}\".format(np.pi, approx_pi))\n",
    "    \n",
    "    x_in = x[inside_bool]\n",
    "    y_in = y[inside_bool]\n",
    "    \n",
    "    plt.figure(figsize=[5,5])\n",
    "    plt.scatter(x, y, s=1)\n",
    "    plt.scatter(x_in, y_in, color=\"r\", s=1)\n",
    "    plt.show()\n",
    "    \n",
    "    return approx_pi\n",
    "\n",
    "\n",
    "def hit_or_miss(N=1000):\n",
    "    x = np.random.uniform(size=N)\n",
    "    y = np.random.uniform(size=N)\n",
    "    \n",
    "    inside_bool = (x*x)+(y*y)<1\n",
    "    \n",
    "    approx_pi = 4*np.sum(inside_bool)/N\n",
    "    return approx_pi\n",
    "    \n",
    "hit_or_miss_plot(1_000_000)"
   ]
  },
  {
   "cell_type": "code",
   "execution_count": 2,
   "metadata": {},
   "outputs": [],
   "source": [
    "def plot_error_function(sizes: List[int], approximations: List[float], errors: List[float]):\n",
    "    sizes_log = np.log(SIZES)\n",
    "    plt.scatter(sizes_log, errors, facecolors='none', edgecolors='b', linewidths=2)\n",
    "    plt.plot(sizes_log, approximations, color='r')\n",
    "    plt.scatter(sizes_log, approximations, facecolors='none', edgecolors='r', linewidths=2)"
   ]
  },
  {
   "cell_type": "code",
   "execution_count": 3,
   "metadata": {},
   "outputs": [
    {
     "data": {
      "image/png": "[encoded data removed]",
      "text/plain": [
       "<Figure size 432x288 with 1 Axes>"
      ]
     },
     "metadata": {
      "needs_background": "light"
     },
     "output_type": "display_data"
    }
   ],
   "source": [
    "approximations = []\n",
    "errors = []\n",
    "\n",
    "for size in SIZES:\n",
    "    approx = hit_or_miss(size)\n",
    "    errors.append(abs(approx - np.pi))\n",
    "    approximations.append(1/sqrt(size))\n",
    "\n",
    "plot_error_function(SIZES, approximations, errors)"
   ]
  },
  {
   "cell_type": "markdown",
   "metadata": {},
   "source": [
    "## Exercice 2\n",
    "\n"
   ]
  },
  {
   "cell_type": "markdown",
   "metadata": {},
   "source": [
    "1 - La valeur de l'intégrale trouvée par un changement de variable $u=arcsin(x)$ et $du = \\frac {1} {\\sqrt {1 - x^2}}$, nous trouvons $J = 0.602845$."
   ]
  },
  {
   "cell_type": "code",
   "execution_count": 4,
   "metadata": {},
   "outputs": [
    {
     "name": "stdout",
     "output_type": "stream",
     "text": [
      "Nombre de valeurs simulées n = 100, estimation de J = 0.6386058563403181\n",
      "Nombre de valeurs simulées n = 1000, estimation de J = 0.5851009250826419\n",
      "Nombre de valeurs simulées n = 10000, estimation de J = 0.6036898027300646\n",
      "Nombre de valeurs simulées n = 50000, estimation de J = 0.6027320924883365\n",
      "Nombre de valeurs simulées n = 100000, estimation de J = 0.602083782480995\n",
      "Nombre de valeurs simulées n = 500000, estimation de J = 0.6039287664093395\n",
      "Nombre de valeurs simulées n = 1000000, estimation de J = 0.6029280496665812\n"
     ]
    }
   ],
   "source": [
    "# 2)\n",
    "def f(x) -> float:\n",
    "    return (1 / 2) * (np.exp(np.arcsin(x))) * (x / np.sqrt(1 - (x * x)))\n",
    "\n",
    "def monte_carlo(a: float, b: float, n: int, f: Callable) -> float:\n",
    "    mc_sum = 0\n",
    "    for i in range(n):\n",
    "        mc_sum += f(np.random.uniform(a, b))\n",
    "    return (b - a) * mc_sum / n\n",
    "\n",
    "# 3)\n",
    "f_monte_carlo = []\n",
    "for n in SIZES:\n",
    "    res = monte_carlo(0.1, 0.9, n, f)\n",
    "    f_monte_carlo.append(res)\n",
    "    print(f'Nombre de valeurs simulées n = {n}, estimation de J = {res}')"
   ]
  },
  {
   "cell_type": "code",
   "execution_count": 5,
   "metadata": {},
   "outputs": [
    {
     "name": "stdout",
     "output_type": "stream",
     "text": [
      "Nombre de valeurs simulées n = 100, estimation de J = 0.5667942925845\n",
      "Nombre de valeurs simulées n = 1000, estimation de J = 0.5990893619507717\n",
      "Nombre de valeurs simulées n = 10000, estimation de J = 0.6024682238648716\n",
      "Nombre de valeurs simulées n = 50000, estimation de J = 0.6027699557026537\n",
      "Nombre de valeurs simulées n = 100000, estimation de J = 0.6028076882127177\n",
      "Nombre de valeurs simulées n = 500000, estimation de J = 0.6028378767870706\n",
      "Nombre de valeurs simulées n = 1000000, estimation de J = 0.6028416505193059\n"
     ]
    }
   ],
   "source": [
    "# 4\n",
    "def formule_des_rectangles(a: float, b: float, n: int, f: Callable):\n",
    "    rec_sum = 0\n",
    "    h = (b - a) / n\n",
    "    \n",
    "    for k in range(n-1):\n",
    "        rec_sum += f(a + k * h)\n",
    "        \n",
    "    return h * rec_sum\n",
    "\n",
    "f_rectangle = []\n",
    "for n in SIZES:\n",
    "    res = formule_des_rectangles(0.1, 0.9, n, f)\n",
    "    f_rectangle.append(res)\n",
    "    print(f'Nombre de valeurs simulées n = {n}, estimation de J = {res}')"
   ]
  },
  {
   "cell_type": "code",
   "execution_count": 6,
   "metadata": {},
   "outputs": [
    {
     "data": {
      "image/png": "[encoded data removed]",
      "text/plain": [
       "<Figure size 432x288 with 1 Axes>"
      ]
     },
     "metadata": {
      "needs_background": "light"
     },
     "output_type": "display_data"
    }
   ],
   "source": [
    "J_VALUE = 0.602845\n",
    "\n",
    "def plot_values(sizes: List[int], f1: List[float], f2: List[float]) -> None:\n",
    "    sizes_log = np.log(SIZES)\n",
    "    plt.plot(sizes_log, f1, color='blue')\n",
    "    plt.scatter(sizes_log, f1, facecolors='none', edgecolors='b', linewidths=2)\n",
    "    plt.plot(sizes_log, f2, color='red')\n",
    "    plt.scatter(sizes_log, f2, facecolors='none', edgecolors='r', linewidths=2)\n",
    "    droite = list(repeat(J_VALUE, len(SIZES)))\n",
    "    plt.plot(sizes_log, droite, linestyle='dashed', color='green')\n",
    "    \n",
    "plot_values(SIZES, f_rectangle, f_monte_carlo)"
   ]
  },
  {
   "cell_type": "markdown",
   "metadata": {},
   "source": [
    "La méthode de quadrature converge plus rapidement."
   ]
  },
  {
   "cell_type": "code",
   "execution_count": 7,
   "metadata": {},
   "outputs": [
    {
     "name": "stdout",
     "output_type": "stream",
     "text": [
      "Nombre de tirages n = 100, erreur numérique = 0.08994493431620143\n",
      "Nombre de tirages n = 1000, erreur numérique = 0.01444247644789598\n",
      "Nombre de tirages n = 10000, erreur numérique = 0.007343995090723254\n",
      "Nombre de tirages n = 50000, erreur numérique = 0.0027559742691212197\n",
      "Nombre de tirages n = 100000, erreur numérique = 0.0006371683456344313\n",
      "Nombre de tirages n = 500000, erreur numérique = 0.00030072291645177884\n",
      "Nombre de tirages n = 1000000, erreur numérique = 0.00010882126973521533\n"
     ]
    },
    {
     "data": {
      "image/png": "[encoded data removed]",
      "text/plain": [
       "<Figure size 432x288 with 1 Axes>"
      ]
     },
     "metadata": {
      "needs_background": "light"
     },
     "output_type": "display_data"
    }
   ],
   "source": [
    "# 5\n",
    "approximations = []\n",
    "errors = []\n",
    "\n",
    "for size in SIZES:\n",
    "    approx =  monte_carlo(0.1, 0.9, size, f)\n",
    "    error = abs(approx - J_VALUE)\n",
    "    errors.append(error)\n",
    "    approximations.append(1/sqrt(size))\n",
    "    print(f'Nombre de tirages n = {size}, erreur numérique = {error}')\n",
    "\n",
    "plot_error_function(SIZES, approximations, errors)"
   ]
  },
  {
   "cell_type": "code",
   "execution_count": 26,
   "metadata": {},
   "outputs": [
    {
     "name": "stdout",
     "output_type": "stream",
     "text": [
      "moyenne =  0.6024848119087807\n"
     ]
    }
   ],
   "source": [
    "# 6\n",
    "def batch(m, n):\n",
    "    batch_len = int(n / m)\n",
    "    batches = []\n",
    "    \n",
    "    for i in range(m):\n",
    "        batches.append(monte_carlo(0.1, 0.9, batch_len, f))\n",
    "        \n",
    "    return batches, sum(batches) / m\n",
    "\n",
    "batches, avg = batch(5000, 1_000_000)\n",
    "print('moyenne = ', avg)"
   ]
  },
  {
   "cell_type": "code",
   "execution_count": 24,
   "metadata": {},
   "outputs": [
    {
     "name": "stderr",
     "output_type": "stream",
     "text": [
      "/home/maxime/anaconda3/lib/python3.8/site-packages/seaborn/distributions.py:2619: FutureWarning: `distplot` is a deprecated function and will be removed in a future version. Please adapt your code to use either `displot` (a figure-level function with similar flexibility) or `histplot` (an axes-level function for histograms).\n",
      "  warnings.warn(msg, FutureWarning)\n"
     ]
    },
    {
     "data": {
      "text/plain": [
       "<matplotlib.axes._subplots.AxesSubplot at 0x7fcca94fda90>"
      ]
     },
     "execution_count": 24,
     "metadata": {},
     "output_type": "execute_result"
    },
    {
     "data": {
      "image/png": "[encoded data removed]",
      "text/plain": [
       "<Figure size 432x288 with 1 Axes>"
      ]
     },
     "metadata": {
      "needs_background": "light"
     },
     "output_type": "display_data"
    }
   ],
   "source": [
    "sns.distplot(batches)"
   ]
  },
  {
   "cell_type": "markdown",
   "metadata": {},
   "source": [
    "= on se rapproche du théorème central limite"
   ]
  },
  {
   "cell_type": "markdown",
   "metadata": {},
   "source": [
    "## Exercice 3\n",
    "\n",
    "1 - La valeur de l'intégrale I est 0.159491."
   ]
  },
  {
   "cell_type": "code",
   "execution_count": 10,
   "metadata": {},
   "outputs": [
    {
     "name": "stdout",
     "output_type": "stream",
     "text": [
      "Nombre de valeurs simulées n = 100, estimation de J = 0.12211235632548757\n",
      "Nombre de valeurs simulées n = 1000, estimation de J = 0.16695981232976737\n",
      "Nombre de valeurs simulées n = 10000, estimation de J = 0.1569170246623765\n",
      "Nombre de valeurs simulées n = 50000, estimation de J = 0.1599462263933137\n",
      "Nombre de valeurs simulées n = 100000, estimation de J = 0.15995631216516845\n",
      "Nombre de valeurs simulées n = 500000, estimation de J = 0.16014185792061245\n",
      "Nombre de valeurs simulées n = 1000000, estimation de J = 0.1594556312965931\n"
     ]
    }
   ],
   "source": [
    "# 2\n",
    "def y_func(x: int, y: int) -> float:\n",
    "    return x * y * np.sin(1 / (x * y))**2\n",
    "\n",
    "def monte_carlo_v2(a: float, b: float, n: int, f: Callable) -> float:\n",
    "    mc_sum = 0\n",
    "    for i in range(n):\n",
    "        mc_sum += f(np.random.uniform(a, b), np.random.uniform(a, b))\n",
    "    return (b - a) * mc_sum / n\n",
    "\n",
    "# 3\n",
    "f_monte_carlo = []\n",
    "for n in SIZES:\n",
    "    res = monte_carlo_v2(0, 1, n, y_func)\n",
    "    f_monte_carlo.append(res)\n",
    "    print(f'Nombre de valeurs simulées n = {n}, estimation de J = {res}')"
   ]
  },
  {
   "cell_type": "code",
   "execution_count": 27,
   "metadata": {},
   "outputs": [
    {
     "name": "stderr",
     "output_type": "stream",
     "text": [
      "<ipython-input-27-1e72d43cb345>:6: RuntimeWarning: divide by zero encountered in true_divide\n",
      "  return (i*j*dx*dx)*(np.sin(1/(i*j*dx*dx)))**2\n",
      "<ipython-input-27-1e72d43cb345>:6: RuntimeWarning: invalid value encountered in sin\n",
      "  return (i*j*dx*dx)*(np.sin(1/(i*j*dx*dx)))**2\n"
     ]
    },
    {
     "data": {
      "text/plain": [
       "0.15945294248866315"
      ]
     },
     "execution_count": 27,
     "metadata": {},
     "output_type": "execute_result"
    }
   ],
   "source": [
    "# 4\n",
    "\n",
    "def integrale2(N):\n",
    "    dx = 1/N\n",
    "    def g(i,j):\n",
    "        return (i*j*dx*dx)*(np.sin(1/(i*j*dx*dx)))**2\n",
    "    g = np.fromfunction(g,(N,N))\n",
    "    clean_x = g[np.isnan(g)==False]\n",
    "    return abs(clean_x.sum()*(1/N)**2)\n",
    "integrale2(10000)"
   ]
  },
  {
   "cell_type": "code",
   "execution_count": 12,
   "metadata": {},
   "outputs": [
    {
     "name": "stdout",
     "output_type": "stream",
     "text": [
      "Nombre de tirages n = 100, erreur numérique = 0.016193199870067565\n",
      "Nombre de tirages n = 1000, erreur numérique = 0.002178218577798041\n",
      "Nombre de tirages n = 10000, erreur numérique = 0.0010669292371349726\n",
      "Nombre de tirages n = 50000, erreur numérique = 0.001081207226382469\n",
      "Nombre de tirages n = 100000, erreur numérique = 0.0007318471570544882\n",
      "Nombre de tirages n = 500000, erreur numérique = 6.507902002919619e-05\n",
      "Nombre de tirages n = 1000000, erreur numérique = 6.68268297646657e-05\n"
     ]
    },
    {
     "data": {
      "image/png": "[encoded data removed]",
      "text/plain": [
       "<Figure size 432x288 with 1 Axes>"
      ]
     },
     "metadata": {
      "needs_background": "light"
     },
     "output_type": "display_data"
    }
   ],
   "source": [
    "# 5\n",
    "I_VALUE = 0.159491\n",
    "approximations = []\n",
    "errors = []\n",
    "\n",
    "for size in SIZES:\n",
    "    approx =  monte_carlo_v2(0, 1, size, y_func)\n",
    "    error = abs(approx - I_VALUE)\n",
    "    errors.append(error)\n",
    "    approximations.append(1/sqrt(size))\n",
    "    print(f'Nombre de tirages n = {size}, erreur numérique = {error}')\n",
    "\n",
    "plot_error_function(SIZES, approximations, errors)"
   ]
  },
  {
   "cell_type": "code",
   "execution_count": 13,
   "metadata": {},
   "outputs": [
    {
     "name": "stdout",
     "output_type": "stream",
     "text": [
      "moyenne =  0.15966511685855117\n"
     ]
    }
   ],
   "source": [
    "#6 \n",
    "def batch(m, n):\n",
    "    batch_len = int(n / m)\n",
    "    batches = []\n",
    "    \n",
    "    for i in range(m):\n",
    "        batches.append(monte_carlo_v2(0, 1, batch_len, y_func))\n",
    "        \n",
    "    return batches, sum(batches) / m\n",
    "\n",
    "batches, avg = batch(5000, 1_000_000)\n",
    "print('moyenne = ', avg)"
   ]
  },
  {
   "cell_type": "code",
   "execution_count": 14,
   "metadata": {},
   "outputs": [
    {
     "name": "stderr",
     "output_type": "stream",
     "text": [
      "/home/maxime/anaconda3/lib/python3.8/site-packages/seaborn/distributions.py:2619: FutureWarning: `distplot` is a deprecated function and will be removed in a future version. Please adapt your code to use either `displot` (a figure-level function with similar flexibility) or `histplot` (an axes-level function for histograms).\n",
      "  warnings.warn(msg, FutureWarning)\n"
     ]
    },
    {
     "data": {
      "text/plain": [
       "<matplotlib.axes._subplots.AxesSubplot at 0x7fcca995cac0>"
      ]
     },
     "execution_count": 14,
     "metadata": {},
     "output_type": "execute_result"
    },
    {
     "data": {
      "image/png": "[encoded data removed]",
      "text/plain": [
       "<Figure size 432x288 with 1 Axes>"
      ]
     },
     "metadata": {
      "needs_background": "light"
     },
     "output_type": "display_data"
    }
   ],
   "source": [
    "sns.distplot(batches)"
   ]
  }
 ],
 "metadata": {
  "kernelspec": {
   "display_name": "Python 3",
   "language": "python",
   "name": "python3"
  },
  "language_info": {
   "codemirror_mode": {
    "name": "ipython",
    "version": 3
   },
   "file_extension": ".py",
   "mimetype": "text/x-python",
   "name": "python",
   "nbconvert_exporter": "python",
   "pygments_lexer": "ipython3",
   "version": "3.8.3"
  }
 },
 "nbformat": 4,
 "nbformat_minor": 4
}
