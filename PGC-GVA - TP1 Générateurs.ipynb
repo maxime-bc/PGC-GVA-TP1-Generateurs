{
 "cells": [
  {
   "cell_type": "markdown",
   "metadata": {},
   "source": [
    "#### Import des bibliothèqes :"
   ]
  },
  {
   "cell_type": "code",
   "execution_count": null,
   "metadata": {},
   "outputs": [],
   "source": [
    "import random\n",
    "from math import ceil, gcd\n",
    "from typing import List\n",
    "\n",
    "import matplotlib.pyplot as plt\n",
    "import numpy as np\n",
    "import pandas as pd\n",
    "import statsmodels.api as sm\n",
    "from scipy.stats import kurtosis, skew\n",
    "from statsmodels.graphics.gofplots import qqplot_2samples"
   ]
  },
  {
   "cell_type": "markdown",
   "metadata": {},
   "source": [
    "#### Fonctions utilitaires :"
   ]
  },
  {
   "cell_type": "code",
   "execution_count": null,
   "metadata": {},
   "outputs": [],
   "source": [
    "\n",
    "def get_seed() -> int:\n",
    "    return int(random.random() * 1_000_000)\n",
    "\n",
    "\n",
    "def linear_congruential_generator(m: int, a: int, c: int, seed: int, n: int) -> List[int]:\n",
    "    res = [seed]\n",
    "    for i in range(n):\n",
    "        seed = (a * seed + c) % m\n",
    "        res.append(seed)\n",
    "    return res"
   ]
  },
  {
   "cell_type": "markdown",
   "metadata": {},
   "source": [
    "# I - Présentation des générateurs\n",
    "\n",
    "## a - Park & Miller / Standard Minimal\n",
    "\n",
    "Le générateur de nombres pseudo-aléatoires Park & Miller est un générateur standard convenablement testé et portable.\n",
    "Il utilise le Générateur Congruentiel Linéraire avec les paramètres suivants :\n",
    "- m = 2^31 - 1,\n",
    "- a = 16807,\n",
    "- c = 0.\n",
    "\n",
    "Avec ce type de générateur, chaque valeur générée dépend de la valeur précédente."
   ]
  },
  {
   "cell_type": "code",
   "execution_count": null,
   "metadata": {},
   "outputs": [],
   "source": [
    "def park_miller(seed: int, n: int) -> List[int]:\n",
    "    if seed == 0:\n",
    "        raise ValueError(\"Park-Miller should not start with a seed equal to 0.\")\n",
    "    m = pow(2, 31) - 1\n",
    "    return linear_congruential_generator(m, 16807, 0, seed, n)\n",
    "\n",
    "\n",
    "def park_miller_normalized(seed: int, n: int) -> List[float]:\n",
    "    return [elem / (pow(2, 31) - 1) for elem in park_miller(seed, n)]"
   ]
  },
  {
   "cell_type": "markdown",
   "metadata": {},
   "source": [
    "## b - Mitchell & Moore\n",
    "\n",
    "Le générateur de nombres pseudo-aléatoires aléatoires Mitchell & Moore utilise une suite de Fibonacci \"retardée\",\n",
    "avec les paramètres suivants :\n",
    "\n",
    "- k = 55\n",
    "- l = 24\n",
    "\n",
    "Ces paramètres nécessitent d'initialiser le générateur avec 56 nombres pseudo-aléatoires.\n",
    "Pour ce faire, j'ai choisi d'utilisé le générateur Parker & Miller vu ci-dessus.\n",
    "\n",
    "Les générateurs basés sur des suites de Fibonacci \"retardées\" produisent des résultats bien supérieurs\n",
    "à ceux basés sur des congruences linéaires, grâce au \"décalage\" introduit qui évite de générer une valeur aléatoire\n",
    "liée à la précédente."
   ]
  },
  {
   "cell_type": "code",
   "execution_count": null,
   "metadata": {},
   "outputs": [],
   "source": [
    "def mitchell_moore(seed: int, n: int, m: int) -> List[float]:\n",
    "    res = park_miller(seed, 56)\n",
    "\n",
    "    for i in range(57, 57 + n):\n",
    "        res.append((res[i - 24] + res[i - 55]) % m)\n",
    "\n",
    "    return [e / m for e in res[57:]]  # normalisation"
   ]
  },
  {
   "cell_type": "markdown",
   "metadata": {},
   "source": [
    "## c - Mersenne Twister\n",
    "\n",
    "Le générateur de nombres pseudo-aléatoires aléatoires Mersenne Twister est basé sur un TGSFR (Twisted Generalised Shift Feedback Register, un type particulier de registre à décalage à rétroaction).\n",
    "\n",
    "Ce générateur a été optimisé pour être utilisé dans le cadre de simulations de Monte-Carlo dans un grand nombre de domaines scientifiques.Il est le générateur de nombres pseudo-aléatoires par défaut en Python, Ruby, R, PHP, MATLAB, Stata et C++.\n"
   ]
  },
  {
   "cell_type": "code",
   "execution_count": null,
   "metadata": {},
   "outputs": [],
   "source": [
    "def mersenne_twister(seed: int, n: int) -> List[float]:\n",
    "    random.seed(seed)\n",
    "    return [random.random() for _ in range(n)]"
   ]
  },
  {
   "cell_type": "markdown",
   "source": [
    "## d - Blum Blum Shub\n",
    "\n",
    "Le générateur de nombres pseudo-aléatoires aléatoires Blum Blum Shub n'est pas approprié aux simulations, mais plutôt à la cryptographie, car il est assez lent."
   ],
   "metadata": {
    "collapsed": false
   }
  },
  {
   "cell_type": "code",
   "execution_count": null,
   "outputs": [],
   "source": [
    "def blum_blum_shub(seed: int, n: int) -> List[float]:  # intéret --> difficile à hacker\n",
    "    m = 56923661\n",
    "    if seed == 0 or seed == 1:\n",
    "        raise ValueError(\"Seed should not be equal to 0 or 1.\")\n",
    "    if gcd(m, seed) != 1:\n",
    "        raise ValueError(f\"Seed should be prime with modulo : {m}\")\n",
    "\n",
    "    res = [seed]\n",
    "    for i in range(n):\n",
    "        seed = (seed * seed) % m\n",
    "        res.append(seed)\n",
    "    return [e / m for e in res]  # normalisation"
   ],
   "metadata": {
    "collapsed": false,
    "pycharm": {
     "name": "#%%\n"
    }
   }
  },
  {
   "cell_type": "markdown",
   "metadata": {},
   "source": [
    "# II - Test des générateurs"
   ]
  },
  {
   "cell_type": "markdown",
   "metadata": {},
   "source": [
    "## a - Interprétation graphique"
   ]
  },
  {
   "cell_type": "code",
   "execution_count": null,
   "metadata": {},
   "outputs": [],
   "source": [
    "GENERATORS_NAMES = ['Park & Miller', 'Mitchell & Moore', 'Blum Blum Shub', 'Mersenne Twister']\n",
    "\n",
    "\n",
    "def generate(n: int) -> List[List[float]]:\n",
    "    return [park_miller_normalized(get_seed(), n),\n",
    "            mitchell_moore(get_seed(), n, 1_000_000),\n",
    "            blum_blum_shub(get_seed(), n),\n",
    "            mersenne_twister(get_seed(), n)]\n",
    "\n",
    "\n",
    "def scatter_plot(n: int) -> None:\n",
    "    l1 = generate(n)\n",
    "    l2 = generate(n)\n",
    "    title = f'Nuage de points montrant la répartition des nombres générés pour n = {n}.'\n",
    "\n",
    "    fig, ax = plt.subplots(nrows=2, ncols=2)\n",
    "    fig.suptitle(title, fontsize=20, y=1.02)\n",
    "    fig.set_size_inches(15, 10)\n",
    "    i = 0\n",
    "    for row in ax:\n",
    "        for col in row:\n",
    "            col.scatter(l1[i], l2[i], alpha=0.5, s=1)\n",
    "            col.title.set_text(GENERATORS_NAMES[i])\n",
    "            i += 1\n",
    "    fig.tight_layout(pad=3.0)\n",
    "    plt.show()\n",
    "\n",
    "\n",
    "scatter_plot(100)\n",
    "scatter_plot(10_000)\n",
    "scatter_plot(1_000_000)"
   ]
  },
  {
   "cell_type": "code",
   "execution_count": null,
   "metadata": {},
   "outputs": [],
   "source": [
    "def histo_plot(n: int) -> None:\n",
    "    l = generate(n)\n",
    "    title = f'Histogramme montrant la répartition des nombres générés pour n = {n}.'\n",
    "\n",
    "    fig, ax = plt.subplots(nrows=2, ncols=2)\n",
    "    fig.suptitle(title, fontsize=20, y=1.02)\n",
    "    fig.set_size_inches(15, 10)\n",
    "    i = 0\n",
    "    for row in ax:\n",
    "        for col in row:\n",
    "            col.hist(l[i])\n",
    "            col.title.set_text(GENERATORS_NAMES[i])\n",
    "            i += 1\n",
    "    fig.tight_layout(pad=3.0)\n",
    "    plt.show()\n",
    "\n",
    "\n",
    "histo_plot(100)\n",
    "histo_plot(10_000)\n",
    "histo_plot(1_000_000)"
   ]
  },
  {
   "cell_type": "code",
   "execution_count": null,
   "metadata": {},
   "outputs": [],
   "source": [
    "def qq_plot(n: int) -> None:\n",
    "    l1 = generate(n)\n",
    "    l2 = generate(n)\n",
    "    title = f'QQplot montrant la répartition des nombres générés pour n = {n}.'\n",
    "\n",
    "    fig, ax = plt.subplots(nrows=2, ncols=2)\n",
    "    fig.suptitle(title, fontsize=20, y=1.02)\n",
    "    fig.set_size_inches(15, 10)\n",
    "    i = 0\n",
    "    for row in ax:\n",
    "        for col in row:\n",
    "            pp_x = sm.ProbPlot(np.array(l1[i]))\n",
    "            pp_y = sm.ProbPlot(np.array(l2[i]))\n",
    "            qqplot_2samples(pp_x, pp_y, line=\"45\", ax=col)\n",
    "            col.title.set_text(GENERATORS_NAMES[i])\n",
    "            i += 1\n",
    "    fig.tight_layout(pad=3.0)\n",
    "    plt.show()\n",
    "\n",
    "\n",
    "qq_plot(100)\n",
    "qq_plot(10_000)\n",
    "qq_plot(1_000_000)"
   ]
  },
  {
   "cell_type": "markdown",
   "metadata": {},
   "source": [
    "## b - Tests Mathématiques\n",
    "\n",
    "### Equiprobabilité"
   ]
  },
  {
   "cell_type": "code",
   "execution_count": null,
   "metadata": {},
   "outputs": [],
   "source": [
    "def get_percentile(values: List[float], percentage: float) -> float:\n",
    "    sorted_list = sorted(values)\n",
    "    return sorted_list[ceil(len(values) * (percentage / 100))]\n",
    "\n",
    "\n",
    "n = 1_000_000\n",
    "\n",
    "l = [park_miller_normalized(get_seed(), n),\n",
    "     mitchell_moore(get_seed(), n, 1_000_000),\n",
    "     blum_blum_shub(get_seed(), n),\n",
    "     mersenne_twister(get_seed(), n)]\n",
    "\n",
    "data = {'Quartile 25%': [get_percentile(sublist, 25) for sublist in l],\n",
    "        'Mean value': [get_percentile(sublist, 50) for sublist in l],\n",
    "        'Quartile 75%': [get_percentile(sublist, 75) for sublist in l],\n",
    "        'Variance': [np.var(sublist) for sublist in l],\n",
    "        'Kurtosis (normalised)': [kurtosis(sublist) for sublist in l],\n",
    "        'Skewness': [skew(sublist) for sublist in l]}\n",
    "\n",
    "pd.DataFrame.from_dict(data, orient='index', columns=GENERATORS_NAMES)"
   ]
  },
  {
   "cell_type": "markdown",
   "metadata": {},
   "source": [
    "### Tests quantitatifs usuels"
   ]
  }
 ],
 "metadata": {
  "kernelspec": {
   "display_name": "Python 3 (ipykernel)",
   "language": "python",
   "name": "python3"
  },
  "language_info": {
   "codemirror_mode": {
    "name": "ipython",
    "version": 3
   },
   "file_extension": ".py",
   "mimetype": "text/x-python",
   "name": "python",
   "nbconvert_exporter": "python",
   "pygments_lexer": "ipython3",
   "version": "3.9.4"
  }
 },
 "nbformat": 4,
 "nbformat_minor": 4
}